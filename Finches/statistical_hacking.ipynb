{
 "cells": [
  {
   "cell_type": "markdown",
   "source": [
    "# Statistical Hacking"
   ],
   "metadata": {
    "collapsed": false,
    "pycharm": {
     "name": "#%% md\n"
    }
   }
  },
  {
   "cell_type": "markdown",
   "metadata": {
    "collapsed": true,
    "pycharm": {
     "name": "#%% md\n"
    }
   },
   "source": [
    "This file serves as a reference for:\n",
    "* ECDF graphs\n",
    "* Bootstrapping\n",
    "* Permutation Tests\n",
    "* Hypothesis Testing"
   ]
  },
  {
   "cell_type": "markdown",
   "source": [
    "### Getting Started"
   ],
   "metadata": {
    "collapsed": false,
    "pycharm": {
     "name": "#%% md\n"
    }
   }
  },
  {
   "cell_type": "code",
   "execution_count": 2,
   "outputs": [],
   "source": [
    "# Loading libraries\n",
    "import numpy as np\n",
    "import matplotlib.pyplot as plt\n",
    "import seaborn as sns\n",
    "import pandas as pd\n"
   ],
   "metadata": {
    "collapsed": false,
    "pycharm": {
     "name": "#%%\n"
    }
   }
  },
  {
   "cell_type": "code",
   "execution_count": 3,
   "outputs": [],
   "source": [
    "# Loading in data\n",
    "bd_1975 = pd.read_csv(\"finch_1975.csv\")['Beak depth, mm'].values\n",
    "bd_2012 = pd.read_csv(\"finch_2012.csv\")['bdepth'].values"
   ],
   "metadata": {
    "collapsed": false,
    "pycharm": {
     "name": "#%%\n"
    }
   }
  },
  {
   "cell_type": "markdown",
   "source": [
    "### Defining functions"
   ],
   "metadata": {
    "collapsed": false,
    "pycharm": {
     "name": "#%% md\n"
    }
   }
  },
  {
   "cell_type": "code",
   "execution_count": 4,
   "outputs": [],
   "source": [
    "#ECDF plotting function\n",
    "def ecdf(array):\n",
    "    n = len(array)\n",
    "    x = np.sort(array)\n",
    "    y = np.arange(1, n+1) / n\n",
    "    return x, y"
   ],
   "metadata": {
    "collapsed": false,
    "pycharm": {
     "name": "#%%\n"
    }
   }
  },
  {
   "cell_type": "code",
   "execution_count": 5,
   "outputs": [],
   "source": [
    "# Boostrap replicates function\n",
    "def draw_bs_reps(data, func, size):\n",
    "    bs_replicates = np.empty(size)\n",
    "    for num in range(size):\n",
    "        bs_replicates[num] = func(np.random.choice(data, size=len(data)))\n",
    "    return bs_replicates"
   ],
   "metadata": {
    "collapsed": false,
    "pycharm": {
     "name": "#%%\n"
    }
   }
  },
  {
   "cell_type": "code",
   "execution_count": null,
   "outputs": [],
   "source": [
    "# Permutation sample function. Testing to see if data came from same distribution\n",
    "# For example ab testing.\n",
    "def permutation_sample(data1, data2):\n",
    "    data = np.concatenate((data1, data2)) # Assuming data came from same distribution\n",
    "    permuted_data = np.random.permutation(data) # Shuffling data. Pulling new data\n",
    "    # under the assumption of the null hypothesis\n",
    "    perm_sample1 = permuted_data[:len(data1)]\n",
    "    perm_sample2 = permuted_data[len(data1):]\n",
    "    return perm_sample1, perm_sample2\n"
   ],
   "metadata": {
    "collapsed": false,
    "pycharm": {
     "name": "#%%\n"
    }
   }
  },
  {
   "cell_type": "markdown",
   "source": [
    "### Some EDA"
   ],
   "metadata": {
    "collapsed": false,
    "pycharm": {
     "name": "#%% md\n"
    }
   }
  },
  {
   "cell_type": "code",
   "execution_count": 6,
   "outputs": [
    {
     "data": {
      "text/plain": "<Figure size 720x576 with 1 Axes>",
      "image/png": "[encoded data removed]"
     },
     "metadata": {},
     "output_type": "display_data"
    }
   ],
   "source": [
    "sns.set() # Setting seaborn theme\n",
    "\n",
    "# ECDF Plots\n",
    "x_1975, y_1975 = ecdf(bd_1975)\n",
    "x_2012, y_2012 = ecdf(bd_2012)\n",
    "\n",
    "_ = plt.figure(figsize=(10,8))\n",
    "\n",
    "_ = plt.plot(x_1975, y_1975, marker=\".\", linestyle='none')\n",
    "_ = plt.plot(x_2012, y_2012, marker=\".\", linestyle='none')\n",
    "\n",
    "plt.margins(.02)\n",
    "\n",
    "_ = plt.xlabel(\"beak depth mm\")\n",
    "_ = plt.ylabel(\"ECDF\")\n",
    "_ = plt.legend((\"1975\", \"2012\"), loc='lower right')\n",
    "\n",
    "plt.show()"
   ],
   "metadata": {
    "collapsed": false,
    "pycharm": {
     "name": "#%%%\n"
    }
   }
  },
  {
   "cell_type": "markdown",
   "source": [
    "### Parameter Estimates of beak depths"
   ],
   "metadata": {
    "collapsed": false,
    "pycharm": {
     "name": "#%% md\n"
    }
   }
  },
  {
   "cell_type": "code",
   "execution_count": 8,
   "outputs": [
    {
     "name": "stdout",
     "output_type": "stream",
     "text": [
      "difference of means: 0.22313275434243174 mm\n",
      "95% confidence interval: [0.10604397 0.33880909] mm\n"
     ]
    }
   ],
   "source": [
    "# Computing empirical difference of means\n",
    "mean_diff = np.mean(bd_1975) - np.mean(bd_2012)\n",
    "\n",
    "# Getting bootstrap replicates\n",
    "bs_replicates_1975 = draw_bs_reps(bd_1975, np.mean, 10000)\n",
    "bs_replicates_2012 = draw_bs_reps(bd_2012, np.mean, 10000)\n",
    "\n",
    "# Getting difference of means\n",
    "bs_diff_replicates = bs_replicates_1975 - bs_replicates_2012\n",
    "\n",
    "# Getting 95% confidence interval\n",
    "conf_int = np.percentile(bs_diff_replicates, [2.5, 97.5])\n",
    "print(f\"difference of means: {mean_diff} mm\")\n",
    "print(f\"95% confidence interval: {conf_int} mm\")"
   ],
   "metadata": {
    "collapsed": false,
    "pycharm": {
     "name": "#%%%\n"
    }
   }
  },
  {
   "cell_type": "markdown",
   "source": [
    "### Hypothesis Test: Are beaks deeper\n",
    "The hypothesis is that the means are equal. Not that they come from the same\n",
    "distribution. Same distribution means permutation test."
   ],
   "metadata": {
    "collapsed": false,
    "pycharm": {
     "name": "#%% md\n"
    }
   }
  },
  {
   "cell_type": "code",
   "execution_count": 10,
   "outputs": [
    {
     "name": "stdout",
     "output_type": "stream",
     "text": [
      "P-value: 0.0093\n"
     ]
    }
   ],
   "source": [
    "combined_mean = np.mean(np.concatenate((bd_1975, bd_2012)))\n",
    "\n",
    "# Shift the means to both equal combined mean. Null Hypothesis is that the means\n",
    "# are the same\n",
    "shifted_1975 = bd_1975 - np.mean(bd_1975) + combined_mean\n",
    "shifted_2012 = bd_2012 - np.mean(bd_2012) + combined_mean\n",
    "\n",
    "# Get boostrap replicates of these shifted arrays\n",
    "bs_shifted_1975 = draw_bs_reps(shifted_1975, np.mean, 10000)\n",
    "bs_shifted_2012 = draw_bs_reps(shifted_2012, np.mean, 10000)\n",
    "\n",
    "# Get the difference of the means for each replicate\n",
    "bs_diff_shifted = bs_replicates_1975 - bs_shifted_2012\n",
    "\n",
    "# Compute the pvalue. Under the null hypothesis that the beak depths have the same\n",
    "# means. What is the probability that we get our observed/empirical difference of\n",
    "# means\n",
    "p = np.sum(bs_diff_shifted >= mean_diff) / len(bs_diff_shifted)\n",
    "\n",
    "# Print results\n",
    "print(f\"P-value: {p}\")"
   ],
   "metadata": {
    "collapsed": false,
    "pycharm": {
     "name": "#%%\n"
    }
   }
  },
  {
   "cell_type": "markdown",
   "source": [
    "### Final Notes\n",
    "\n",
    "Hypothesis Testing:\n",
    "\n",
    "* Clearly state the null hypothesis\n",
    "* Compute empirical test statistic\n",
    "* Draw thousands of permutations samples assuming the null hypothesis to be true\n",
    "    * Compute test statistic for those samples\n",
    "* Compute p-value\n",
    "    * np.sum(perm_replicates >= actual_test_statistic) / len(perm_replicates)"
   ],
   "metadata": {
    "collapsed": false,
    "pycharm": {
     "name": "#%% md\n"
    }
   }
  }
 ],
 "metadata": {
  "kernelspec": {
   "display_name": "Python 3",
   "language": "python",
   "name": "python3"
  },
  "language_info": {
   "codemirror_mode": {
    "name": "ipython",
    "version": 2
   },
   "file_extension": ".py",
   "mimetype": "text/x-python",
   "name": "python",
   "nbconvert_exporter": "python",
   "pygments_lexer": "ipython2",
   "version": "2.7.6"
  }
 },
 "nbformat": 4,
 "nbformat_minor": 0
}