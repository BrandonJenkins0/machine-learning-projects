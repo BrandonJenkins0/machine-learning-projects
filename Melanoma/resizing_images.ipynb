{
 "cells": [
  {
   "metadata": {
    "_uuid": "8f2839f25d086af736a60e9eeb907d3b93b6e0e5",
    "_cell_guid": "b1076dfc-b9ad-4769-8c92-a6c4dae69d19",
    "trusted": true
   },
   "cell_type": "code",
   "source": [
    "# Importing necessary modules\n",
    "import numpy as np # linear algebra\n",
    "import pandas as pd # data processing, CSV file I/O (e.g. pd.read_csv)\n",
    "from keras.preprocessing.image import load_img, img_to_array\n",
    "import os\n",
    "import matplotlib.pyplot as plt"
   ],
   "execution_count": null,
   "outputs": []
  },
  {
   "metadata": {
    "trusted": true
   },
   "cell_type": "code",
   "source": [
    "# Directories\n",
    "train_dir = \"../input/siim-isic-melanoma-classification/jpeg/train\"\n",
    "test_dir = \"../input/siim-isic-melanoma-classification/jpeg/test\""
   ],
   "execution_count": null,
   "outputs": []
  },
  {
   "metadata": {
    "trusted": true
   },
   "cell_type": "code",
   "source": [
    "# Getting file names to iterate through. Using csv file to get images appended to array in correct order\n",
    "train_meta = pd.read_csv(\"../input/siim-isic-melanoma-classification/train.csv\")\n",
    "test_meta = pd.read_csv(\"../input/siim-isic-melanoma-classification/test.csv\")\n",
    "train_img_names = train_meta.loc[:, \"image_name\"].values + \".jpg\"\n",
    "test_img_names = test_meta.loc[:, \"image_name\"].values + \".jpg\""
   ],
   "execution_count": null,
   "outputs": []
  },
  {
   "metadata": {
    "trusted": true
   },
   "cell_type": "code",
   "source": [
    "# Sanity check\n",
    "print(train_img_names.shape)\n",
    "train_img_names[:5]"
   ],
   "execution_count": null,
   "outputs": []
  },
  {
   "metadata": {
    "_uuid": "d629ff2d2480ee46fbb7e2d37f6b5fab8052498a",
    "_cell_guid": "79c7e3d0-c299-4dcb-8224-4455121ee9b0",
    "trusted": true
   },
   "cell_type": "code",
   "source": [
    "# Resizing scaling function\n",
    "def resize_scale_image(img_path, size=(60, 60)):\n",
    "    return np.expand_dims(img_to_array(load_img(img_path, target_size=size)) / 255, axis=0)"
   ],
   "execution_count": null,
   "outputs": []
  },
  {
   "metadata": {
    "trusted": true
   },
   "cell_type": "code",
   "source": [
    "# Testing out an image\n",
    "image1 = resize_scale_image(\"../input/siim-isic-melanoma-classification/jpeg/train/ISIC_0077735.jpg\")\n",
    "image2 = resize_scale_image(os.path.join(train_dir, train_img_names[4]))"
   ],
   "execution_count": null,
   "outputs": []
  },
  {
   "metadata": {
    "trusted": true
   },
   "cell_type": "code",
   "source": [
    "# Processing the train set images\n",
    "train_images_resized = []\n",
    "for num, img in enumerate(train_img_names):\n",
    "    image = resize_scale_image(os.path.join(train_dir, img))\n",
    "    train_images_resized.append(image)\n",
    "    if num % 100 == 0: # Feedback on number of images resized\n",
    "        print(num)"
   ],
   "execution_count": 87,
   "outputs": [
    {
     "output_type": "stream",
     "text": "0\n100\n200\n300\n400\n500\n600\n700\n800\n900\n1000\n1100\n1200\n1300\n1400\n1500\n1600\n1700\n1800\n1900\n2000\n2100\n2200\n2300\n2400\n2500\n2600\n2700\n2800\n2900\n3000\n3100\n3200\n3300\n3400\n3500\n3600\n3700\n3800\n3900\n4000\n4100\n4200\n4300\n4400\n4500\n4600\n4700\n4800\n4900\n5000\n5100\n5200\n5300\n5400\n5500\n5600\n5700\n5800\n5900\n6000\n6100\n6200\n6300\n6400\n6500\n6600\n6700\n6800\n6900\n7000\n7100\n7200\n7300\n7400\n7500\n7600\n7700\n7800\n7900\n8000\n8100\n8200\n8300\n8400\n8500\n8600\n8700\n8800\n8900\n9000\n9100\n9200\n9300\n9400\n9500\n9600\n9700\n9800\n9900\n10000\n10100\n10200\n10300\n10400\n10500\n10600\n10700\n10800\n10900\n11000\n11100\n11200\n11300\n11400\n11500\n11600\n11700\n11800\n11900\n12000\n12100\n12200\n12300\n12400\n12500\n12600\n12700\n12800\n12900\n13000\n13100\n13200\n13300\n13400\n13500\n13600\n13700\n13800\n13900\n14000\n14100\n14200\n14300\n14400\n14500\n14600\n14700\n14800\n14900\n15000\n15100\n15200\n15300\n15400\n15500\n15600\n15700\n15800\n15900\n16000\n16100\n16200\n16300\n16400\n16500\n16600\n16700\n16800\n16900\n17000\n17100\n17200\n17300\n17400\n17500\n17600\n17700\n17800\n17900\n18000\n18100\n18200\n18300\n18400\n18500\n18600\n18700\n18800\n18900\n19000\n19100\n19200\n19300\n19400\n19500\n19600\n19700\n19800\n19900\n20000\n20100\n20200\n20300\n20400\n20500\n20600\n20700\n20800\n20900\n21000\n21100\n21200\n21300\n21400\n21500\n21600\n21700\n21800\n21900\n22000\n22100\n22200\n22300\n22400\n22500\n22600\n22700\n22800\n22900\n23000\n23100\n23200\n23300\n23400\n23500\n23600\n23700\n23800\n23900\n24000\n24100\n24200\n24300\n24400\n24500\n24600\n24700\n24800\n24900\n25000\n25100\n25200\n25300\n25400\n25500\n25600\n25700\n25800\n25900\n26000\n26100\n26200\n26300\n26400\n26500\n26600\n26700\n26800\n26900\n27000\n27100\n27200\n27300\n27400\n27500\n27600\n27700\n27800\n27900\n28000\n28100\n28200\n28300\n28400\n28500\n28600\n28700\n28800\n28900\n29000\n29100\n29200\n29300\n29400\n29500\n29600\n29700\n29800\n29900\n30000\n30100\n30200\n30300\n30400\n30500\n30600\n30700\n30800\n30900\n31000\n31100\n31200\n31300\n31400\n31500\n31600\n31700\n31800\n31900\n32000\n32100\n32200\n32300\n32400\n32500\n32600\n32700\n32800\n32900\n33000\n33100\n",
     "name": "stdout"
    }
   ]
  },
  {
   "metadata": {
    "trusted": true
   },
   "cell_type": "code",
   "source": [
    "# Converting list of images into an array\n",
    "train_images = np.vstack(train_images_resized)"
   ],
   "execution_count": 88,
   "outputs": []
  },
  {
   "metadata": {
    "trusted": true
   },
   "cell_type": "code",
   "source": [
    "# Sanity check\n",
    "print(train_images.shape)\n",
    "plt.imshow(train_images[-1])\n",
    "plt.title(train_img_names[-1])"
   ],
   "execution_count": 90,
   "outputs": [
    {
     "output_type": "stream",
     "text": "(33126, 60, 60, 3)\n",
     "name": "stdout"
    },
    {
     "output_type": "execute_result",
     "execution_count": 90,
     "data": {
      "text/plain": "Text(0.5, 1.0, 'ISIC_9999806.jpg')"
     },
     "metadata": {}
    },
    {
     "output_type": "display_data",
     "data": {
      "text/plain": "<Figure size 432x288 with 1 Axes>",
      "image/png": "[encoded data removed]"
     },
     "metadata": {
      "needs_background": "light"
     }
    }
   ]
  },
  {
   "metadata": {
    "trusted": true
   },
   "cell_type": "code",
   "source": [
    "# Processing the test set images\n",
    "test_images_resized = []\n",
    "for num, img in enumerate(test_img_names):\n",
    "    image = resize_scale_image(os.path.join(test_dir, img))\n",
    "    test_images_resized.append(image)\n",
    "    if num % 1000 == 0:\n",
    "        print(num)"
   ],
   "execution_count": null,
   "outputs": []
  },
  {
   "metadata": {
    "trusted": true
   },
   "cell_type": "code",
   "source": [
    "# Converting list of images into an array\n",
    "test_images = np.vstack(test_images_resized)"
   ],
   "execution_count": 83,
   "outputs": []
  },
  {
   "metadata": {
    "trusted": true,
    "pycharm": {
     "name": "#%%\n"
    }
   },
   "cell_type": "code",
   "source": [
    "# Saving out the data\n",
    "np.savez_compressed(\"melanoma_data.npz\", \n",
    "                    X_train=train_images, \n",
    "                    y_train=train_meta.loc[:, 'target'].values, \n",
    "                    X_test=test_images)\n"
   ],
   "execution_count": 93,
   "outputs": []
  }
 ],
 "metadata": {
  "kernelspec": {
   "language": "python",
   "display_name": "Python 3",
   "name": "python3"
  },
  "language_info": {
   "pygments_lexer": "ipython3",
   "nbconvert_exporter": "python",
   "version": "3.6.4",
   "file_extension": ".py",
   "codemirror_mode": {
    "name": "ipython",
    "version": 3
   },
   "name": "python",
   "mimetype": "text/x-python"
  },
  "pycharm": {
   "stem_cell": {
    "cell_type": "raw",
    "source": [],
    "metadata": {
     "collapsed": false
    }
   }
  }
 },
 "nbformat": 4,
 "nbformat_minor": 4
}