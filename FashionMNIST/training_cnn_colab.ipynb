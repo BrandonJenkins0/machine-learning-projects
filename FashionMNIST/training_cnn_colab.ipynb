{
  "nbformat": 4,
  "nbformat_minor": 0,
  "metadata": {
    "language_info": {
      "codemirror_mode": {
        "name": "ipython",
        "version": 2
      },
      "file_extension": ".py",
      "mimetype": "text/x-python",
      "name": "python",
      "nbconvert_exporter": "python",
      "pygments_lexer": "ipython2",
      "version": "2.7.6"
    },
    "kernelspec": {
      "name": "python3",
      "language": "python",
      "display_name": "Python 3"
    },
    "pycharm": {
      "stem_cell": {
        "cell_type": "raw",
        "source": [],
        "metadata": {
          "collapsed": false
        }
      }
    },
    "colab": {
      "name": "training_cnn_colab.ipynb",
      "provenance": []
    },
    "accelerator": "GPU"
  },
  "cells": [
    {
      "cell_type": "code",
      "metadata": {
        "id": "FIlSm_zlP8ZL",
        "colab_type": "code",
        "colab": {}
      },
      "source": [
        "# Try out some data augmentation to make it better.\n",
        "import numpy as np\n",
        "from keras.preprocessing.image import ImageDataGenerator\n",
        "import matplotlib.pyplot as plt\n",
        "from keras.callbacks import EarlyStopping, ReduceLROnPlateau, ModelCheckpoint\n",
        "from keras import Sequential\n",
        "from keras.layers import Conv2D, Dense, MaxPooling2D, Flatten, Dropout\n",
        "from keras.optimizers import Adam\n",
        "from keras.models import load_model\n",
        "from sklearn.metrics import accuracy_score"
      ],
      "execution_count": 0,
      "outputs": []
    },
    {
      "cell_type": "markdown",
      "metadata": {
        "collapsed": false,
        "pycharm": {
          "name": "#%% md\n"
        },
        "id": "upim6Q02P8ZW",
        "colab_type": "text"
      },
      "source": [
        "Functions to clean up the work flow"
      ]
    },
    {
      "cell_type": "code",
      "metadata": {
        "pycharm": {
          "name": "#%%\n"
        },
        "id": "46T08cSoP8ZX",
        "colab_type": "code",
        "colab": {}
      },
      "source": [
        "# Loading in data\n",
        "def load_data(file_path=\"FashionMNIST/data/fashion_mnist_scaled.npz\"):\n",
        "    data = np.load(file_path, allow_pickle=True)\n",
        "    X_train, y_train, X_test, y_test = [data[file] for file in data.files]\n",
        "    return X_train, y_train, X_test, y_test\n",
        "\n",
        "\n",
        "# Getting an augmented dataset\n",
        "def augmenting_data(gen, X, y, num_augmented_imgs=5):\n",
        "    aug_iter = gen.flow(X, y, batch_size=len(X))\n",
        "    data = [next(aug_iter) for num in range(num_augmented_imgs)]\n",
        "    y1 = [data[num][1] for num in range(num_augmented_imgs)]\n",
        "    x = [data[num][0] for num in range(num_augmented_imgs)]\n",
        "    return np.concatenate([np.vstack(x), X]), np.concatenate([np.vstack(y1).reshape(-1), y])\n"
      ],
      "execution_count": 0,
      "outputs": []
    },
    {
      "cell_type": "code",
      "metadata": {
        "pycharm": {
          "name": "#%%\n"
        },
        "id": "zFBV7KFeP8Zc",
        "colab_type": "code",
        "colab": {}
      },
      "source": [
        "# Loading in data\n",
        "X_train, y_train, X_test, y_test = load_data(file_path=\"/content/fashion_mnist_scaled.npz\")"
      ],
      "execution_count": 0,
      "outputs": []
    },
    {
      "cell_type": "code",
      "metadata": {
        "pycharm": {
          "name": "#%%\n"
        },
        "id": "3mYj9wyqP8Zf",
        "colab_type": "code",
        "colab": {}
      },
      "source": [
        "# Creating image generator\n",
        "gen = ImageDataGenerator(rotation_range=10, width_shift_range=.1, zoom_range=.1,\n",
        "                         horizontal_flip=True)"
      ],
      "execution_count": 0,
      "outputs": []
    },
    {
      "cell_type": "code",
      "metadata": {
        "pycharm": {
          "name": "#%%\n"
        },
        "id": "-eJ9oMUHP8Zj",
        "colab_type": "code",
        "colab": {}
      },
      "source": [
        "# Creating augmented dataset\n",
        "X_train_augmented, y_train_augmented = augmenting_data(gen, X_train, y_train, 2)"
      ],
      "execution_count": 0,
      "outputs": []
    },
    {
      "cell_type": "code",
      "metadata": {
        "pycharm": {
          "name": "#%%\n"
        },
        "id": "XcjABIl5P8Zn",
        "colab_type": "code",
        "colab": {}
      },
      "source": [
        "# Callbacks for training\n",
        "es = EarlyStopping(monitor='val_loss', mode='min', verbose=1, patience=15)\n",
        "mcp_save = ModelCheckpoint('.mdl_wts.hdf5', save_best_only=True, monitor='val_loss', mode='min')\n",
        "reduce_lr_loss = ReduceLROnPlateau(monitor='val_loss', factor=0.1, patience=10, verbose=1, min_delta=1e-4, mode='min')\n",
        "callbacks = [es, mcp_save, reduce_lr_loss]"
      ],
      "execution_count": 0,
      "outputs": []
    },
    {
      "cell_type": "code",
      "metadata": {
        "pycharm": {
          "name": "#%%\n"
        },
        "id": "TPO_aGfkP8Zr",
        "colab_type": "code",
        "colab": {}
      },
      "source": [
        "# Making a deeper model architecture\n",
        "model = Sequential([\n",
        "    Conv2D(120, (3, 3), padding='same', activation='relu', input_shape=(28, 28, 1)),\n",
        "    MaxPooling2D(),\n",
        "\n",
        "    Conv2D(60, (3, 3), padding='same', activation='relu'),\n",
        "    MaxPooling2D(),\n",
        "\n",
        "    Conv2D(30, (3, 3), padding='same', activation='relu'),\n",
        "    MaxPooling2D(),\n",
        "    Flatten(),\n",
        "    Dense(10, activation='softmax')\n",
        "])"
      ],
      "execution_count": 0,
      "outputs": []
    },
    {
      "cell_type": "code",
      "metadata": {
        "pycharm": {
          "name": "#%% \n"
        },
        "id": "g6u-RT8kP8Zx",
        "colab_type": "code",
        "colab": {}
      },
      "source": [
        "# Compiling the simple model\n",
        "model.compile(Adam(.001), loss='sparse_categorical_crossentropy', metrics=['accuracy'])"
      ],
      "execution_count": 0,
      "outputs": []
    },
    {
      "cell_type": "code",
      "metadata": {
        "pycharm": {
          "name": "#%% \n"
        },
        "id": "HgimFH9HP8Z2",
        "colab_type": "code",
        "colab": {
          "base_uri": "https://localhost:8080/",
          "height": 850
        },
        "outputId": "0e140e55-bfa0-4dfc-f140-da35334a6dfa"
      },
      "source": [
        "# Fitting model with specifying validation set\n",
        "model.fit(X_train_augmented, y_train_augmented, validation_split=.1, epochs=100,\n",
        "           callbacks=callbacks, verbose=2)"
      ],
      "execution_count": 12,
      "outputs": [
        {
          "output_type": "stream",
          "text": [
            "Train on 162000 samples, validate on 18000 samples\n",
            "Epoch 1/100\n",
            " - 26s - loss: 0.4784 - accuracy: 0.8256 - val_loss: 0.3086 - val_accuracy: 0.8871\n",
            "Epoch 2/100\n",
            " - 20s - loss: 0.3277 - accuracy: 0.8800 - val_loss: 0.2652 - val_accuracy: 0.9064\n",
            "Epoch 3/100\n",
            " - 20s - loss: 0.2877 - accuracy: 0.8943 - val_loss: 0.2475 - val_accuracy: 0.9123\n",
            "Epoch 4/100\n",
            " - 20s - loss: 0.2643 - accuracy: 0.9027 - val_loss: 0.2256 - val_accuracy: 0.9176\n",
            "Epoch 5/100\n",
            " - 20s - loss: 0.2471 - accuracy: 0.9082 - val_loss: 0.2227 - val_accuracy: 0.9203\n",
            "Epoch 6/100\n",
            " - 20s - loss: 0.2332 - accuracy: 0.9133 - val_loss: 0.2345 - val_accuracy: 0.9165\n",
            "Epoch 7/100\n",
            " - 20s - loss: 0.2208 - accuracy: 0.9180 - val_loss: 0.2234 - val_accuracy: 0.9214\n",
            "Epoch 8/100\n",
            " - 20s - loss: 0.2110 - accuracy: 0.9218 - val_loss: 0.2380 - val_accuracy: 0.9188\n",
            "Epoch 9/100\n",
            " - 20s - loss: 0.2032 - accuracy: 0.9246 - val_loss: 0.2345 - val_accuracy: 0.9150\n",
            "Epoch 10/100\n",
            " - 20s - loss: 0.1942 - accuracy: 0.9279 - val_loss: 0.2260 - val_accuracy: 0.9232\n",
            "Epoch 11/100\n",
            " - 20s - loss: 0.1875 - accuracy: 0.9300 - val_loss: 0.2243 - val_accuracy: 0.9246\n",
            "Epoch 12/100\n",
            " - 20s - loss: 0.1813 - accuracy: 0.9326 - val_loss: 0.2215 - val_accuracy: 0.9229\n",
            "Epoch 13/100\n",
            " - 20s - loss: 0.1747 - accuracy: 0.9351 - val_loss: 0.2314 - val_accuracy: 0.9250\n",
            "Epoch 14/100\n",
            " - 20s - loss: 0.1684 - accuracy: 0.9371 - val_loss: 0.2363 - val_accuracy: 0.9249\n",
            "Epoch 15/100\n",
            " - 20s - loss: 0.1638 - accuracy: 0.9390 - val_loss: 0.2269 - val_accuracy: 0.9274\n",
            "Epoch 16/100\n",
            " - 20s - loss: 0.1600 - accuracy: 0.9399 - val_loss: 0.2487 - val_accuracy: 0.9204\n",
            "Epoch 17/100\n",
            " - 20s - loss: 0.1543 - accuracy: 0.9432 - val_loss: 0.2411 - val_accuracy: 0.9222\n",
            "Epoch 18/100\n",
            " - 20s - loss: 0.1500 - accuracy: 0.9442 - val_loss: 0.2571 - val_accuracy: 0.9228\n",
            "Epoch 19/100\n",
            " - 20s - loss: 0.1449 - accuracy: 0.9456 - val_loss: 0.2836 - val_accuracy: 0.9147\n",
            "\n",
            "Epoch 00019: ReduceLROnPlateau reducing learning rate to 0.00010000000474974513.\n",
            "Epoch 20/100\n",
            " - 20s - loss: 0.0961 - accuracy: 0.9658 - val_loss: 0.2395 - val_accuracy: 0.9301\n",
            "Epoch 21/100\n",
            " - 20s - loss: 0.0846 - accuracy: 0.9705 - val_loss: 0.2458 - val_accuracy: 0.9296\n",
            "Epoch 22/100\n",
            " - 20s - loss: 0.0797 - accuracy: 0.9729 - val_loss: 0.2468 - val_accuracy: 0.9304\n",
            "Epoch 00022: early stopping\n"
          ],
          "name": "stdout"
        },
        {
          "output_type": "execute_result",
          "data": {
            "text/plain": [
              "<keras.callbacks.callbacks.History at 0x7f670031cc88>"
            ]
          },
          "metadata": {
            "tags": []
          },
          "execution_count": 12
        }
      ]
    },
    {
      "cell_type": "code",
      "metadata": {
        "id": "0hD7CLNURZaW",
        "colab_type": "code",
        "colab": {}
      },
      "source": [
        "# Lets go even deeper...\n",
        "model2 = Sequential([\n",
        "    Conv2D(240, (3, 3), padding='same', activation='relu'),\n",
        "    MaxPooling2D(),\n",
        "    Dropout(.3),\n",
        "\n",
        "    Conv2D(120, (3, 3), padding='same', activation='relu', input_shape=(28, 28, 1)),\n",
        "    MaxPooling2D(),\n",
        "    Dropout(.3),\n",
        "\n",
        "    Conv2D(60, (3, 3), padding='same', activation='relu'),\n",
        "    MaxPooling2D(),\n",
        "\n",
        "    Conv2D(30, (3, 3), padding='same', activation='relu'),\n",
        "    Flatten(),\n",
        "    Dense(10, activation='softmax')\n",
        "])"
      ],
      "execution_count": 0,
      "outputs": []
    },
    {
      "cell_type": "code",
      "metadata": {
        "id": "AozAbeOpV4n_",
        "colab_type": "code",
        "colab": {}
      },
      "source": [
        "# Compiling the model\n",
        "model2.compile(Adam(.001), loss='sparse_categorical_crossentropy', metrics=['accuracy'])"
      ],
      "execution_count": 0,
      "outputs": []
    },
    {
      "cell_type": "code",
      "metadata": {
        "id": "wqXJJ0AAV-Zi",
        "colab_type": "code",
        "colab": {
          "base_uri": "https://localhost:8080/",
          "height": 1000
        },
        "outputId": "6ed635a7-71dd-4d70-b579-957a8dcc4d96"
      },
      "source": [
        "# Fitting model with specifying validation set\n",
        "model2.fit(X_train_augmented, y_train_augmented, validation_split=.1, epochs=100,\n",
        "           callbacks=callbacks, verbose=2)\n",
        "# Previous was 94.07 something"
      ],
      "execution_count": 30,
      "outputs": [
        {
          "output_type": "stream",
          "text": [
            "Train on 162000 samples, validate on 18000 samples\n",
            "Epoch 1/100\n",
            " - 30s - loss: 0.4815 - accuracy: 0.8209 - val_loss: 0.3128 - val_accuracy: 0.8858\n",
            "Epoch 2/100\n",
            " - 30s - loss: 0.3344 - accuracy: 0.8747 - val_loss: 0.2581 - val_accuracy: 0.9059\n",
            "Epoch 3/100\n",
            " - 29s - loss: 0.3013 - accuracy: 0.8871 - val_loss: 0.2426 - val_accuracy: 0.9081\n",
            "Epoch 4/100\n",
            " - 29s - loss: 0.2807 - accuracy: 0.8944 - val_loss: 0.2183 - val_accuracy: 0.9195\n",
            "Epoch 5/100\n",
            " - 29s - loss: 0.2683 - accuracy: 0.8986 - val_loss: 0.2133 - val_accuracy: 0.9218\n",
            "Epoch 6/100\n",
            " - 29s - loss: 0.2598 - accuracy: 0.9015 - val_loss: 0.2069 - val_accuracy: 0.9248\n",
            "Epoch 7/100\n",
            " - 29s - loss: 0.2524 - accuracy: 0.9049 - val_loss: 0.2096 - val_accuracy: 0.9230\n",
            "Epoch 8/100\n",
            " - 29s - loss: 0.2470 - accuracy: 0.9061 - val_loss: 0.2166 - val_accuracy: 0.9222\n",
            "Epoch 9/100\n",
            " - 29s - loss: 0.2434 - accuracy: 0.9087 - val_loss: 0.1968 - val_accuracy: 0.9284\n",
            "Epoch 10/100\n",
            " - 29s - loss: 0.2393 - accuracy: 0.9095 - val_loss: 0.2048 - val_accuracy: 0.9258\n",
            "Epoch 11/100\n",
            " - 30s - loss: 0.2367 - accuracy: 0.9107 - val_loss: 0.2149 - val_accuracy: 0.9234\n",
            "Epoch 12/100\n",
            " - 30s - loss: 0.2336 - accuracy: 0.9113 - val_loss: 0.2033 - val_accuracy: 0.9246\n",
            "Epoch 13/100\n",
            " - 30s - loss: 0.2313 - accuracy: 0.9126 - val_loss: 0.2143 - val_accuracy: 0.9249\n",
            "Epoch 14/100\n",
            " - 29s - loss: 0.2296 - accuracy: 0.9129 - val_loss: 0.2029 - val_accuracy: 0.9283\n",
            "Epoch 15/100\n",
            " - 29s - loss: 0.2283 - accuracy: 0.9138 - val_loss: 0.1935 - val_accuracy: 0.9307\n",
            "Epoch 16/100\n",
            " - 29s - loss: 0.2267 - accuracy: 0.9141 - val_loss: 0.1896 - val_accuracy: 0.9309\n",
            "Epoch 17/100\n",
            " - 29s - loss: 0.2261 - accuracy: 0.9145 - val_loss: 0.1868 - val_accuracy: 0.9317\n",
            "Epoch 18/100\n",
            " - 29s - loss: 0.2239 - accuracy: 0.9153 - val_loss: 0.1954 - val_accuracy: 0.9303\n",
            "Epoch 19/100\n",
            " - 29s - loss: 0.2219 - accuracy: 0.9162 - val_loss: 0.1883 - val_accuracy: 0.9316\n",
            "Epoch 20/100\n",
            " - 29s - loss: 0.2223 - accuracy: 0.9167 - val_loss: 0.1894 - val_accuracy: 0.9330\n",
            "Epoch 21/100\n",
            " - 29s - loss: 0.2187 - accuracy: 0.9175 - val_loss: 0.1855 - val_accuracy: 0.9311\n",
            "Epoch 22/100\n",
            " - 29s - loss: 0.2173 - accuracy: 0.9173 - val_loss: 0.1880 - val_accuracy: 0.9298\n",
            "Epoch 23/100\n",
            " - 30s - loss: 0.2180 - accuracy: 0.9180 - val_loss: 0.1973 - val_accuracy: 0.9283\n",
            "Epoch 24/100\n",
            " - 29s - loss: 0.2155 - accuracy: 0.9182 - val_loss: 0.1957 - val_accuracy: 0.9297\n",
            "Epoch 25/100\n",
            " - 29s - loss: 0.2162 - accuracy: 0.9185 - val_loss: 0.1903 - val_accuracy: 0.9303\n",
            "Epoch 26/100\n",
            " - 29s - loss: 0.2144 - accuracy: 0.9189 - val_loss: 0.1850 - val_accuracy: 0.9324\n",
            "Epoch 27/100\n",
            " - 29s - loss: 0.2160 - accuracy: 0.9188 - val_loss: 0.1872 - val_accuracy: 0.9336\n",
            "Epoch 28/100\n",
            " - 29s - loss: 0.2151 - accuracy: 0.9189 - val_loss: 0.1904 - val_accuracy: 0.9334\n",
            "Epoch 29/100\n",
            " - 29s - loss: 0.2141 - accuracy: 0.9190 - val_loss: 0.1833 - val_accuracy: 0.9342\n",
            "Epoch 30/100\n",
            " - 29s - loss: 0.2140 - accuracy: 0.9194 - val_loss: 0.1998 - val_accuracy: 0.9303\n",
            "Epoch 31/100\n",
            " - 29s - loss: 0.2120 - accuracy: 0.9201 - val_loss: 0.1811 - val_accuracy: 0.9342\n",
            "Epoch 32/100\n",
            " - 30s - loss: 0.2121 - accuracy: 0.9205 - val_loss: 0.1841 - val_accuracy: 0.9329\n",
            "Epoch 33/100\n",
            " - 29s - loss: 0.2127 - accuracy: 0.9202 - val_loss: 0.1926 - val_accuracy: 0.9317\n",
            "Epoch 34/100\n",
            " - 30s - loss: 0.2122 - accuracy: 0.9203 - val_loss: 0.1947 - val_accuracy: 0.9313\n",
            "Epoch 35/100\n",
            " - 29s - loss: 0.2104 - accuracy: 0.9205 - val_loss: 0.1947 - val_accuracy: 0.9293\n",
            "Epoch 36/100\n",
            " - 29s - loss: 0.2104 - accuracy: 0.9212 - val_loss: 0.1898 - val_accuracy: 0.9326\n",
            "Epoch 37/100\n",
            " - 29s - loss: 0.2107 - accuracy: 0.9208 - val_loss: 0.1872 - val_accuracy: 0.9318\n",
            "Epoch 38/100\n",
            " - 29s - loss: 0.2077 - accuracy: 0.9216 - val_loss: 0.1936 - val_accuracy: 0.9297\n",
            "Epoch 39/100\n",
            " - 29s - loss: 0.2089 - accuracy: 0.9215 - val_loss: 0.1792 - val_accuracy: 0.9351\n",
            "Epoch 40/100\n",
            " - 29s - loss: 0.2088 - accuracy: 0.9218 - val_loss: 0.1807 - val_accuracy: 0.9339\n",
            "Epoch 41/100\n",
            " - 29s - loss: 0.2081 - accuracy: 0.9219 - val_loss: 0.1952 - val_accuracy: 0.9277\n",
            "Epoch 42/100\n",
            " - 29s - loss: 0.2055 - accuracy: 0.9227 - val_loss: 0.1849 - val_accuracy: 0.9325\n",
            "Epoch 43/100\n",
            " - 29s - loss: 0.2076 - accuracy: 0.9233 - val_loss: 0.1871 - val_accuracy: 0.9337\n",
            "Epoch 44/100\n",
            " - 30s - loss: 0.2071 - accuracy: 0.9222 - val_loss: 0.1863 - val_accuracy: 0.9316\n",
            "Epoch 45/100\n",
            " - 29s - loss: 0.2056 - accuracy: 0.9225 - val_loss: 0.1820 - val_accuracy: 0.9372\n",
            "Epoch 46/100\n",
            " - 29s - loss: 0.2064 - accuracy: 0.9228 - val_loss: 0.1890 - val_accuracy: 0.9323\n",
            "Epoch 47/100\n",
            " - 29s - loss: 0.2060 - accuracy: 0.9230 - val_loss: 0.1864 - val_accuracy: 0.9340\n",
            "Epoch 48/100\n",
            " - 29s - loss: 0.2032 - accuracy: 0.9236 - val_loss: 0.2042 - val_accuracy: 0.9279\n",
            "Epoch 49/100\n",
            " - 29s - loss: 0.2052 - accuracy: 0.9236 - val_loss: 0.1831 - val_accuracy: 0.9352\n",
            "\n",
            "Epoch 00049: ReduceLROnPlateau reducing learning rate to 0.00010000000474974513.\n",
            "Epoch 50/100\n",
            " - 29s - loss: 0.1700 - accuracy: 0.9363 - val_loss: 0.1672 - val_accuracy: 0.9417\n",
            "Epoch 51/100\n",
            " - 29s - loss: 0.1638 - accuracy: 0.9380 - val_loss: 0.1654 - val_accuracy: 0.9421\n",
            "Epoch 52/100\n",
            " - 29s - loss: 0.1595 - accuracy: 0.9389 - val_loss: 0.1653 - val_accuracy: 0.9419\n",
            "Epoch 53/100\n",
            " - 29s - loss: 0.1550 - accuracy: 0.9414 - val_loss: 0.1627 - val_accuracy: 0.9427\n",
            "Epoch 54/100\n",
            " - 29s - loss: 0.1534 - accuracy: 0.9418 - val_loss: 0.1598 - val_accuracy: 0.9436\n",
            "Epoch 55/100\n",
            " - 30s - loss: 0.1520 - accuracy: 0.9421 - val_loss: 0.1628 - val_accuracy: 0.9422\n",
            "Epoch 56/100\n",
            " - 29s - loss: 0.1510 - accuracy: 0.9427 - val_loss: 0.1632 - val_accuracy: 0.9438\n",
            "Epoch 57/100\n",
            " - 29s - loss: 0.1494 - accuracy: 0.9428 - val_loss: 0.1589 - val_accuracy: 0.9431\n",
            "Epoch 58/100\n",
            " - 29s - loss: 0.1468 - accuracy: 0.9439 - val_loss: 0.1627 - val_accuracy: 0.9417\n",
            "Epoch 59/100\n",
            " - 29s - loss: 0.1469 - accuracy: 0.9445 - val_loss: 0.1598 - val_accuracy: 0.9434\n",
            "Epoch 60/100\n",
            " - 29s - loss: 0.1454 - accuracy: 0.9445 - val_loss: 0.1588 - val_accuracy: 0.9441\n",
            "Epoch 61/100\n",
            " - 29s - loss: 0.1465 - accuracy: 0.9446 - val_loss: 0.1570 - val_accuracy: 0.9448\n",
            "Epoch 62/100\n",
            " - 29s - loss: 0.1436 - accuracy: 0.9460 - val_loss: 0.1582 - val_accuracy: 0.9447\n",
            "Epoch 63/100\n",
            " - 29s - loss: 0.1434 - accuracy: 0.9454 - val_loss: 0.1604 - val_accuracy: 0.9443\n",
            "Epoch 64/100\n",
            " - 29s - loss: 0.1431 - accuracy: 0.9454 - val_loss: 0.1593 - val_accuracy: 0.9432\n",
            "Epoch 65/100\n",
            " - 30s - loss: 0.1417 - accuracy: 0.9462 - val_loss: 0.1601 - val_accuracy: 0.9439\n",
            "Epoch 66/100\n",
            " - 29s - loss: 0.1409 - accuracy: 0.9464 - val_loss: 0.1569 - val_accuracy: 0.9438\n",
            "Epoch 67/100\n",
            " - 29s - loss: 0.1406 - accuracy: 0.9467 - val_loss: 0.1575 - val_accuracy: 0.9450\n",
            "Epoch 68/100\n",
            " - 29s - loss: 0.1398 - accuracy: 0.9462 - val_loss: 0.1560 - val_accuracy: 0.9453\n",
            "Epoch 69/100\n",
            " - 29s - loss: 0.1386 - accuracy: 0.9470 - val_loss: 0.1603 - val_accuracy: 0.9450\n",
            "Epoch 70/100\n",
            " - 29s - loss: 0.1392 - accuracy: 0.9469 - val_loss: 0.1566 - val_accuracy: 0.9446\n",
            "Epoch 71/100\n",
            " - 29s - loss: 0.1397 - accuracy: 0.9470 - val_loss: 0.1586 - val_accuracy: 0.9433\n",
            "Epoch 72/100\n",
            " - 29s - loss: 0.1360 - accuracy: 0.9483 - val_loss: 0.1549 - val_accuracy: 0.9458\n",
            "Epoch 73/100\n",
            " - 29s - loss: 0.1377 - accuracy: 0.9477 - val_loss: 0.1542 - val_accuracy: 0.9452\n",
            "Epoch 74/100\n",
            " - 29s - loss: 0.1363 - accuracy: 0.9479 - val_loss: 0.1577 - val_accuracy: 0.9447\n",
            "Epoch 75/100\n",
            " - 29s - loss: 0.1366 - accuracy: 0.9479 - val_loss: 0.1575 - val_accuracy: 0.9449\n",
            "Epoch 76/100\n",
            " - 30s - loss: 0.1362 - accuracy: 0.9472 - val_loss: 0.1555 - val_accuracy: 0.9453\n",
            "Epoch 77/100\n",
            " - 29s - loss: 0.1354 - accuracy: 0.9486 - val_loss: 0.1550 - val_accuracy: 0.9446\n",
            "Epoch 78/100\n",
            " - 29s - loss: 0.1351 - accuracy: 0.9485 - val_loss: 0.1565 - val_accuracy: 0.9459\n",
            "Epoch 79/100\n",
            " - 29s - loss: 0.1328 - accuracy: 0.9492 - val_loss: 0.1563 - val_accuracy: 0.9457\n",
            "Epoch 80/100\n",
            " - 29s - loss: 0.1346 - accuracy: 0.9490 - val_loss: 0.1567 - val_accuracy: 0.9452\n",
            "Epoch 81/100\n",
            " - 29s - loss: 0.1340 - accuracy: 0.9491 - val_loss: 0.1569 - val_accuracy: 0.9456\n",
            "Epoch 82/100\n",
            " - 29s - loss: 0.1346 - accuracy: 0.9485 - val_loss: 0.1550 - val_accuracy: 0.9461\n",
            "Epoch 83/100\n",
            " - 29s - loss: 0.1311 - accuracy: 0.9499 - val_loss: 0.1566 - val_accuracy: 0.9451\n",
            "\n",
            "Epoch 00083: ReduceLROnPlateau reducing learning rate to 1.0000000474974514e-05.\n",
            "Epoch 84/100\n",
            " - 29s - loss: 0.1301 - accuracy: 0.9502 - val_loss: 0.1537 - val_accuracy: 0.9467\n",
            "Epoch 85/100\n",
            " - 29s - loss: 0.1291 - accuracy: 0.9513 - val_loss: 0.1546 - val_accuracy: 0.9463\n",
            "Epoch 86/100\n",
            " - 29s - loss: 0.1283 - accuracy: 0.9510 - val_loss: 0.1542 - val_accuracy: 0.9466\n",
            "Epoch 87/100\n",
            " - 29s - loss: 0.1279 - accuracy: 0.9512 - val_loss: 0.1539 - val_accuracy: 0.9470\n",
            "Epoch 88/100\n",
            " - 29s - loss: 0.1274 - accuracy: 0.9516 - val_loss: 0.1533 - val_accuracy: 0.9467\n",
            "Epoch 89/100\n",
            " - 29s - loss: 0.1276 - accuracy: 0.9509 - val_loss: 0.1547 - val_accuracy: 0.9464\n",
            "Epoch 90/100\n",
            " - 29s - loss: 0.1276 - accuracy: 0.9508 - val_loss: 0.1538 - val_accuracy: 0.9472\n",
            "Epoch 91/100\n",
            " - 29s - loss: 0.1283 - accuracy: 0.9515 - val_loss: 0.1538 - val_accuracy: 0.9468\n",
            "Epoch 92/100\n",
            " - 29s - loss: 0.1267 - accuracy: 0.9515 - val_loss: 0.1539 - val_accuracy: 0.9471\n",
            "Epoch 93/100\n",
            " - 29s - loss: 0.1272 - accuracy: 0.9517 - val_loss: 0.1543 - val_accuracy: 0.9467\n",
            "Epoch 94/100\n",
            " - 29s - loss: 0.1278 - accuracy: 0.9514 - val_loss: 0.1542 - val_accuracy: 0.9469\n",
            "Epoch 95/100\n",
            " - 29s - loss: 0.1265 - accuracy: 0.9516 - val_loss: 0.1542 - val_accuracy: 0.9467\n",
            "Epoch 96/100\n",
            " - 29s - loss: 0.1284 - accuracy: 0.9513 - val_loss: 0.1539 - val_accuracy: 0.9467\n",
            "Epoch 97/100\n",
            " - 30s - loss: 0.1273 - accuracy: 0.9512 - val_loss: 0.1547 - val_accuracy: 0.9464\n",
            "Epoch 98/100\n",
            " - 29s - loss: 0.1270 - accuracy: 0.9517 - val_loss: 0.1547 - val_accuracy: 0.9468\n",
            "\n",
            "Epoch 00098: ReduceLROnPlateau reducing learning rate to 1.0000000656873453e-06.\n",
            "Epoch 99/100\n",
            " - 29s - loss: 0.1264 - accuracy: 0.9519 - val_loss: 0.1543 - val_accuracy: 0.9467\n",
            "Epoch 100/100\n",
            " - 29s - loss: 0.1264 - accuracy: 0.9519 - val_loss: 0.1543 - val_accuracy: 0.9467\n"
          ],
          "name": "stdout"
        },
        {
          "output_type": "execute_result",
          "data": {
            "text/plain": [
              "<keras.callbacks.callbacks.History at 0x7f6700146898>"
            ]
          },
          "metadata": {
            "tags": []
          },
          "execution_count": 30
        }
      ]
    },
    {
      "cell_type": "code",
      "metadata": {
        "id": "2kzI769i9WMf",
        "colab_type": "code",
        "colab": {}
      },
      "source": [
        "# Lets go even deeper... and deeper...\n",
        "model3 = Sequential([\n",
        "    Conv2D(480, (3, 3), padding='same', activation='relu', input_shape=(28, 28, 1)),\n",
        "    MaxPooling2D(),\n",
        "    Dropout(.3),\n",
        "\n",
        "    Conv2D(240, (3, 3), padding='same', activation='relu'),\n",
        "    MaxPooling2D(),\n",
        "    Dropout(.3),\n",
        "\n",
        "    Conv2D(120, (3, 3), padding='same', activation='relu'),\n",
        "    MaxPooling2D(),\n",
        "    Dropout(.3),\n",
        "\n",
        "    Conv2D(60, (3, 3), padding='same', activation='relu'),\n",
        "    MaxPooling2D(),\n",
        "\n",
        "    Conv2D(30, (3, 3), padding='same', activation='relu'),\n",
        "    Flatten(),\n",
        "    Dense(10, activation='softmax')\n",
        "])"
      ],
      "execution_count": 0,
      "outputs": []
    },
    {
      "cell_type": "code",
      "metadata": {
        "id": "VCpLua2i9reJ",
        "colab_type": "code",
        "colab": {}
      },
      "source": [
        "# Compiling the model\n",
        "model3.compile(Adam(.001), loss='sparse_categorical_crossentropy', metrics=['accuracy'])"
      ],
      "execution_count": 0,
      "outputs": []
    },
    {
      "cell_type": "code",
      "metadata": {
        "id": "5M513tZO90gZ",
        "colab_type": "code",
        "colab": {
          "base_uri": "https://localhost:8080/",
          "height": 1000
        },
        "outputId": "dfbaa90e-4cc9-43ae-cd65-09fc1d14145c"
      },
      "source": [
        "# Fitting model with specifying validation set\n",
        "model3.fit(X_train_augmented, y_train_augmented, validation_split=.1, epochs=100,\n",
        "           callbacks=callbacks, verbose=2)"
      ],
      "execution_count": 40,
      "outputs": [
        {
          "output_type": "stream",
          "text": [
            "Train on 162000 samples, validate on 18000 samples\n",
            "Epoch 1/100\n",
            " - 51s - loss: 0.1153 - accuracy: 0.9568 - val_loss: 0.1391 - val_accuracy: 0.9517\n",
            "Epoch 2/100\n",
            " - 50s - loss: 0.1129 - accuracy: 0.9574 - val_loss: 0.1389 - val_accuracy: 0.9526\n",
            "Epoch 3/100\n",
            " - 51s - loss: 0.1138 - accuracy: 0.9577 - val_loss: 0.1398 - val_accuracy: 0.9521\n",
            "Epoch 4/100\n",
            " - 51s - loss: 0.1128 - accuracy: 0.9574 - val_loss: 0.1394 - val_accuracy: 0.9519\n",
            "Epoch 5/100\n",
            " - 51s - loss: 0.1156 - accuracy: 0.9567 - val_loss: 0.1392 - val_accuracy: 0.9519\n",
            "Epoch 6/100\n",
            " - 51s - loss: 0.1138 - accuracy: 0.9572 - val_loss: 0.1390 - val_accuracy: 0.9525\n",
            "Epoch 7/100\n",
            " - 51s - loss: 0.1121 - accuracy: 0.9580 - val_loss: 0.1414 - val_accuracy: 0.9515\n",
            "Epoch 8/100\n",
            " - 51s - loss: 0.1127 - accuracy: 0.9578 - val_loss: 0.1396 - val_accuracy: 0.9516\n",
            "Epoch 9/100\n",
            " - 51s - loss: 0.1133 - accuracy: 0.9573 - val_loss: 0.1401 - val_accuracy: 0.9524\n",
            "Epoch 10/100\n",
            " - 51s - loss: 0.1119 - accuracy: 0.9585 - val_loss: 0.1376 - val_accuracy: 0.9522\n",
            "Epoch 11/100\n",
            " - 51s - loss: 0.1119 - accuracy: 0.9583 - val_loss: 0.1373 - val_accuracy: 0.9526\n",
            "Epoch 12/100\n",
            " - 51s - loss: 0.1112 - accuracy: 0.9583 - val_loss: 0.1373 - val_accuracy: 0.9519\n",
            "Epoch 13/100\n",
            " - 51s - loss: 0.1111 - accuracy: 0.9582 - val_loss: 0.1387 - val_accuracy: 0.9521\n",
            "Epoch 14/100\n",
            " - 51s - loss: 0.1102 - accuracy: 0.9583 - val_loss: 0.1382 - val_accuracy: 0.9521\n",
            "Epoch 15/100\n",
            " - 51s - loss: 0.1111 - accuracy: 0.9580 - val_loss: 0.1370 - val_accuracy: 0.9522\n",
            "Epoch 16/100\n",
            " - 51s - loss: 0.1098 - accuracy: 0.9589 - val_loss: 0.1375 - val_accuracy: 0.9522\n",
            "Epoch 17/100\n",
            " - 51s - loss: 0.1110 - accuracy: 0.9585 - val_loss: 0.1389 - val_accuracy: 0.9531\n",
            "Epoch 18/100\n",
            " - 50s - loss: 0.1086 - accuracy: 0.9594 - val_loss: 0.1396 - val_accuracy: 0.9518\n",
            "Epoch 19/100\n",
            " - 51s - loss: 0.1104 - accuracy: 0.9585 - val_loss: 0.1378 - val_accuracy: 0.9512\n",
            "Epoch 20/100\n",
            " - 51s - loss: 0.1087 - accuracy: 0.9597 - val_loss: 0.1382 - val_accuracy: 0.9518\n",
            "Epoch 21/100\n",
            " - 51s - loss: 0.1091 - accuracy: 0.9590 - val_loss: 0.1376 - val_accuracy: 0.9530\n",
            "Epoch 22/100\n",
            " - 51s - loss: 0.1095 - accuracy: 0.9591 - val_loss: 0.1373 - val_accuracy: 0.9527\n",
            "Epoch 23/100\n",
            " - 51s - loss: 0.1079 - accuracy: 0.9597 - val_loss: 0.1374 - val_accuracy: 0.9520\n",
            "Epoch 24/100\n",
            " - 50s - loss: 0.1084 - accuracy: 0.9596 - val_loss: 0.1385 - val_accuracy: 0.9518\n",
            "Epoch 25/100\n",
            " - 51s - loss: 0.1080 - accuracy: 0.9598 - val_loss: 0.1377 - val_accuracy: 0.9523\n",
            "\n",
            "Epoch 00025: ReduceLROnPlateau reducing learning rate to 1.0000000474974514e-05.\n",
            "Epoch 26/100\n",
            " - 50s - loss: 0.1068 - accuracy: 0.9601 - val_loss: 0.1375 - val_accuracy: 0.9521\n",
            "Epoch 27/100\n",
            " - 51s - loss: 0.1055 - accuracy: 0.9605 - val_loss: 0.1372 - val_accuracy: 0.9523\n",
            "Epoch 28/100\n",
            " - 51s - loss: 0.1030 - accuracy: 0.9612 - val_loss: 0.1372 - val_accuracy: 0.9519\n",
            "Epoch 29/100\n",
            " - 51s - loss: 0.1050 - accuracy: 0.9609 - val_loss: 0.1371 - val_accuracy: 0.9517\n",
            "Epoch 30/100\n",
            " - 50s - loss: 0.1032 - accuracy: 0.9613 - val_loss: 0.1364 - val_accuracy: 0.9523\n",
            "Epoch 31/100\n",
            " - 50s - loss: 0.1053 - accuracy: 0.9602 - val_loss: 0.1370 - val_accuracy: 0.9524\n",
            "Epoch 32/100\n",
            " - 50s - loss: 0.1037 - accuracy: 0.9611 - val_loss: 0.1366 - val_accuracy: 0.9527\n",
            "Epoch 33/100\n",
            " - 50s - loss: 0.1049 - accuracy: 0.9605 - val_loss: 0.1367 - val_accuracy: 0.9522\n",
            "Epoch 34/100\n",
            " - 50s - loss: 0.1040 - accuracy: 0.9608 - val_loss: 0.1368 - val_accuracy: 0.9527\n",
            "Epoch 35/100\n",
            " - 50s - loss: 0.1053 - accuracy: 0.9606 - val_loss: 0.1361 - val_accuracy: 0.9526\n",
            "Epoch 36/100\n",
            " - 51s - loss: 0.1033 - accuracy: 0.9614 - val_loss: 0.1366 - val_accuracy: 0.9522\n",
            "Epoch 37/100\n",
            " - 51s - loss: 0.1049 - accuracy: 0.9607 - val_loss: 0.1357 - val_accuracy: 0.9527\n",
            "Epoch 38/100\n",
            " - 50s - loss: 0.1039 - accuracy: 0.9613 - val_loss: 0.1363 - val_accuracy: 0.9524\n",
            "Epoch 39/100\n",
            " - 50s - loss: 0.1040 - accuracy: 0.9613 - val_loss: 0.1361 - val_accuracy: 0.9521\n",
            "Epoch 40/100\n",
            " - 50s - loss: 0.1045 - accuracy: 0.9609 - val_loss: 0.1367 - val_accuracy: 0.9521\n",
            "Epoch 41/100\n",
            " - 50s - loss: 0.1029 - accuracy: 0.9610 - val_loss: 0.1369 - val_accuracy: 0.9526\n",
            "Epoch 42/100\n",
            " - 51s - loss: 0.1033 - accuracy: 0.9614 - val_loss: 0.1371 - val_accuracy: 0.9526\n",
            "Epoch 43/100\n",
            " - 50s - loss: 0.1037 - accuracy: 0.9619 - val_loss: 0.1371 - val_accuracy: 0.9527\n",
            "Epoch 44/100\n",
            " - 50s - loss: 0.1042 - accuracy: 0.9612 - val_loss: 0.1366 - val_accuracy: 0.9524\n",
            "Epoch 45/100\n",
            " - 50s - loss: 0.1025 - accuracy: 0.9619 - val_loss: 0.1364 - val_accuracy: 0.9531\n",
            "Epoch 46/100\n",
            " - 50s - loss: 0.1030 - accuracy: 0.9613 - val_loss: 0.1361 - val_accuracy: 0.9526\n",
            "Epoch 47/100\n",
            " - 50s - loss: 0.1042 - accuracy: 0.9609 - val_loss: 0.1364 - val_accuracy: 0.9529\n",
            "\n",
            "Epoch 00047: ReduceLROnPlateau reducing learning rate to 1.0000000656873453e-06.\n",
            "Epoch 48/100\n",
            " - 51s - loss: 0.1010 - accuracy: 0.9619 - val_loss: 0.1363 - val_accuracy: 0.9528\n",
            "Epoch 49/100\n",
            " - 50s - loss: 0.1017 - accuracy: 0.9617 - val_loss: 0.1363 - val_accuracy: 0.9528\n",
            "Epoch 50/100\n",
            " - 50s - loss: 0.1036 - accuracy: 0.9618 - val_loss: 0.1362 - val_accuracy: 0.9529\n",
            "Epoch 51/100\n",
            " - 50s - loss: 0.1029 - accuracy: 0.9614 - val_loss: 0.1363 - val_accuracy: 0.9531\n",
            "Epoch 52/100\n",
            " - 50s - loss: 0.1029 - accuracy: 0.9614 - val_loss: 0.1362 - val_accuracy: 0.9528\n",
            "Epoch 00052: early stopping\n"
          ],
          "name": "stdout"
        },
        {
          "output_type": "execute_result",
          "data": {
            "text/plain": [
              "<keras.callbacks.callbacks.History at 0x7f67001dcfd0>"
            ]
          },
          "metadata": {
            "tags": []
          },
          "execution_count": 40
        }
      ]
    },
    {
      "cell_type": "code",
      "metadata": {
        "id": "UUY54oa0fA0g",
        "colab_type": "code",
        "colab": {}
      },
      "source": [
        "# Saving out the best model\n",
        "model3.save(\"/content/deep_cnn_best.h5\")"
      ],
      "execution_count": 0,
      "outputs": []
    },
    {
      "cell_type": "code",
      "metadata": {
        "id": "4QO1S7wXf49w",
        "colab_type": "code",
        "colab": {}
      },
      "source": [
        "# Using previous models architecture to train on initial data. Not the augmented\n",
        "# data. My thoughts are that it wont quite be as good. Probably overfit.\n",
        "prev_mod = load_model(\"/content/deep_cnn_best.h5\")"
      ],
      "execution_count": 0,
      "outputs": []
    },
    {
      "cell_type": "code",
      "metadata": {
        "id": "ZpczRtFehG0V",
        "colab_type": "code",
        "colab": {}
      },
      "source": [
        "# Creating new model object with previous architecture\n",
        "reg_data_mod = Sequential.from_config(prev_mod.get_config())"
      ],
      "execution_count": 0,
      "outputs": []
    },
    {
      "cell_type": "code",
      "metadata": {
        "id": "lwcMYUAEhqiZ",
        "colab_type": "code",
        "colab": {
          "base_uri": "https://localhost:8080/",
          "height": 629
        },
        "outputId": "46e04cae-107b-4c43-c27e-9fc44f0fb7a6"
      },
      "source": [
        "# Lets see if the architecture matches up\n",
        "reg_data_mod.summary()"
      ],
      "execution_count": 50,
      "outputs": [
        {
          "output_type": "stream",
          "text": [
            "Model: \"sequential_7\"\n",
            "_________________________________________________________________\n",
            "Layer (type)                 Output Shape              Param #   \n",
            "=================================================================\n",
            "conv2d_23 (Conv2D)           (None, 28, 28, 480)       4800      \n",
            "_________________________________________________________________\n",
            "max_pooling2d_19 (MaxPooling (None, 14, 14, 480)       0         \n",
            "_________________________________________________________________\n",
            "dropout_6 (Dropout)          (None, 14, 14, 480)       0         \n",
            "_________________________________________________________________\n",
            "conv2d_24 (Conv2D)           (None, 14, 14, 240)       1037040   \n",
            "_________________________________________________________________\n",
            "max_pooling2d_20 (MaxPooling (None, 7, 7, 240)         0         \n",
            "_________________________________________________________________\n",
            "dropout_7 (Dropout)          (None, 7, 7, 240)         0         \n",
            "_________________________________________________________________\n",
            "conv2d_25 (Conv2D)           (None, 7, 7, 120)         259320    \n",
            "_________________________________________________________________\n",
            "max_pooling2d_21 (MaxPooling (None, 3, 3, 120)         0         \n",
            "_________________________________________________________________\n",
            "dropout_8 (Dropout)          (None, 3, 3, 120)         0         \n",
            "_________________________________________________________________\n",
            "conv2d_26 (Conv2D)           (None, 3, 3, 60)          64860     \n",
            "_________________________________________________________________\n",
            "max_pooling2d_22 (MaxPooling (None, 1, 1, 60)          0         \n",
            "_________________________________________________________________\n",
            "conv2d_27 (Conv2D)           (None, 1, 1, 30)          16230     \n",
            "_________________________________________________________________\n",
            "flatten_7 (Flatten)          (None, 30)                0         \n",
            "_________________________________________________________________\n",
            "dense_7 (Dense)              (None, 10)                310       \n",
            "=================================================================\n",
            "Total params: 1,382,560\n",
            "Trainable params: 1,382,560\n",
            "Non-trainable params: 0\n",
            "_________________________________________________________________\n"
          ],
          "name": "stdout"
        }
      ]
    },
    {
      "cell_type": "code",
      "metadata": {
        "id": "LzFsr0Jnh6LE",
        "colab_type": "code",
        "colab": {}
      },
      "source": [
        "# Looks good. Lets go ahead and train it\n",
        "reg_data_mod.compile(Adam(0.001), loss=\"sparse_categorical_crossentropy\", \n",
        "                     metrics=[\"accuracy\"])"
      ],
      "execution_count": 0,
      "outputs": []
    },
    {
      "cell_type": "code",
      "metadata": {
        "id": "pB0vkXYRibPl",
        "colab_type": "code",
        "colab": {
          "base_uri": "https://localhost:8080/",
          "height": 1000
        },
        "outputId": "2ecbccdc-5dce-4d9f-d033-d1a21b50b91f"
      },
      "source": [
        "reg_data_mod.fit(X_train, y_train, epochs=100, callbacks=callbacks, verbose=2,\n",
        "                   validation_split=.1)"
      ],
      "execution_count": 54,
      "outputs": [
        {
          "output_type": "stream",
          "text": [
            "Train on 54000 samples, validate on 6000 samples\n",
            "Epoch 1/100\n",
            " - 17s - loss: 0.5365 - accuracy: 0.8011 - val_loss: 0.3768 - val_accuracy: 0.8617\n",
            "Epoch 2/100\n",
            " - 17s - loss: 0.3425 - accuracy: 0.8744 - val_loss: 0.2876 - val_accuracy: 0.8943\n",
            "Epoch 3/100\n",
            " - 17s - loss: 0.2950 - accuracy: 0.8917 - val_loss: 0.2622 - val_accuracy: 0.9017\n",
            "Epoch 4/100\n",
            " - 17s - loss: 0.2748 - accuracy: 0.8987 - val_loss: 0.2497 - val_accuracy: 0.9093\n",
            "Epoch 5/100\n",
            " - 17s - loss: 0.2532 - accuracy: 0.9056 - val_loss: 0.2485 - val_accuracy: 0.9065\n",
            "Epoch 6/100\n",
            " - 17s - loss: 0.2405 - accuracy: 0.9116 - val_loss: 0.2245 - val_accuracy: 0.9182\n",
            "Epoch 7/100\n",
            " - 17s - loss: 0.2271 - accuracy: 0.9154 - val_loss: 0.2265 - val_accuracy: 0.9167\n",
            "Epoch 8/100\n",
            " - 17s - loss: 0.2165 - accuracy: 0.9211 - val_loss: 0.2247 - val_accuracy: 0.9157\n",
            "Epoch 9/100\n",
            " - 17s - loss: 0.2105 - accuracy: 0.9228 - val_loss: 0.2220 - val_accuracy: 0.9173\n",
            "Epoch 10/100\n",
            " - 17s - loss: 0.2038 - accuracy: 0.9246 - val_loss: 0.2144 - val_accuracy: 0.9240\n",
            "Epoch 11/100\n",
            " - 17s - loss: 0.1986 - accuracy: 0.9261 - val_loss: 0.2168 - val_accuracy: 0.9218\n",
            "Epoch 12/100\n",
            " - 17s - loss: 0.1927 - accuracy: 0.9286 - val_loss: 0.2270 - val_accuracy: 0.9148\n",
            "Epoch 13/100\n",
            " - 17s - loss: 0.1890 - accuracy: 0.9291 - val_loss: 0.2146 - val_accuracy: 0.9205\n",
            "Epoch 14/100\n",
            " - 17s - loss: 0.1864 - accuracy: 0.9308 - val_loss: 0.2105 - val_accuracy: 0.9253\n",
            "Epoch 15/100\n",
            " - 17s - loss: 0.1809 - accuracy: 0.9316 - val_loss: 0.2037 - val_accuracy: 0.9255\n",
            "Epoch 16/100\n",
            " - 17s - loss: 0.1745 - accuracy: 0.9354 - val_loss: 0.2205 - val_accuracy: 0.9197\n",
            "Epoch 17/100\n",
            " - 17s - loss: 0.1737 - accuracy: 0.9341 - val_loss: 0.2134 - val_accuracy: 0.9240\n",
            "Epoch 18/100\n",
            " - 17s - loss: 0.1692 - accuracy: 0.9362 - val_loss: 0.1983 - val_accuracy: 0.9277\n",
            "Epoch 19/100\n",
            " - 17s - loss: 0.1645 - accuracy: 0.9386 - val_loss: 0.2032 - val_accuracy: 0.9247\n",
            "Epoch 20/100\n",
            " - 17s - loss: 0.1645 - accuracy: 0.9383 - val_loss: 0.2281 - val_accuracy: 0.9200\n",
            "Epoch 21/100\n",
            " - 17s - loss: 0.1619 - accuracy: 0.9401 - val_loss: 0.2190 - val_accuracy: 0.9228\n",
            "Epoch 22/100\n",
            " - 17s - loss: 0.1572 - accuracy: 0.9416 - val_loss: 0.2026 - val_accuracy: 0.9283\n",
            "Epoch 23/100\n",
            " - 17s - loss: 0.1575 - accuracy: 0.9417 - val_loss: 0.2082 - val_accuracy: 0.9262\n",
            "Epoch 24/100\n",
            " - 17s - loss: 0.1528 - accuracy: 0.9427 - val_loss: 0.2030 - val_accuracy: 0.9273\n",
            "Epoch 25/100\n",
            " - 17s - loss: 0.1494 - accuracy: 0.9446 - val_loss: 0.2058 - val_accuracy: 0.9290\n",
            "Epoch 26/100\n",
            " - 17s - loss: 0.1480 - accuracy: 0.9444 - val_loss: 0.1985 - val_accuracy: 0.9313\n",
            "Epoch 27/100\n",
            " - 17s - loss: 0.1472 - accuracy: 0.9452 - val_loss: 0.2037 - val_accuracy: 0.9268\n",
            "Epoch 28/100\n",
            " - 17s - loss: 0.1477 - accuracy: 0.9454 - val_loss: 0.2044 - val_accuracy: 0.9235\n",
            "\n",
            "Epoch 00028: ReduceLROnPlateau reducing learning rate to 0.00010000000474974513.\n",
            "Epoch 29/100\n",
            " - 17s - loss: 0.1196 - accuracy: 0.9554 - val_loss: 0.1884 - val_accuracy: 0.9340\n",
            "Epoch 30/100\n",
            " - 17s - loss: 0.1107 - accuracy: 0.9588 - val_loss: 0.1890 - val_accuracy: 0.9338\n",
            "Epoch 31/100\n",
            " - 17s - loss: 0.1060 - accuracy: 0.9607 - val_loss: 0.1877 - val_accuracy: 0.9352\n",
            "Epoch 32/100\n",
            " - 17s - loss: 0.1011 - accuracy: 0.9613 - val_loss: 0.1883 - val_accuracy: 0.9342\n",
            "Epoch 33/100\n",
            " - 17s - loss: 0.0997 - accuracy: 0.9632 - val_loss: 0.1904 - val_accuracy: 0.9350\n",
            "Epoch 34/100\n",
            " - 17s - loss: 0.0976 - accuracy: 0.9638 - val_loss: 0.1921 - val_accuracy: 0.9340\n",
            "Epoch 35/100\n",
            " - 17s - loss: 0.0940 - accuracy: 0.9643 - val_loss: 0.1957 - val_accuracy: 0.9348\n",
            "Epoch 36/100\n",
            " - 17s - loss: 0.0954 - accuracy: 0.9635 - val_loss: 0.1938 - val_accuracy: 0.9342\n",
            "Epoch 37/100\n",
            " - 17s - loss: 0.0931 - accuracy: 0.9639 - val_loss: 0.1984 - val_accuracy: 0.9337\n",
            "Epoch 38/100\n",
            " - 17s - loss: 0.0931 - accuracy: 0.9647 - val_loss: 0.1950 - val_accuracy: 0.9338\n",
            "Epoch 39/100\n",
            " - 17s - loss: 0.0909 - accuracy: 0.9648 - val_loss: 0.1950 - val_accuracy: 0.9348\n",
            "Epoch 40/100\n",
            " - 17s - loss: 0.0905 - accuracy: 0.9664 - val_loss: 0.1966 - val_accuracy: 0.9342\n",
            "Epoch 41/100\n",
            " - 17s - loss: 0.0862 - accuracy: 0.9664 - val_loss: 0.1971 - val_accuracy: 0.9355\n",
            "\n",
            "Epoch 00041: ReduceLROnPlateau reducing learning rate to 1.0000000474974514e-05.\n",
            "Epoch 42/100\n",
            " - 17s - loss: 0.0863 - accuracy: 0.9673 - val_loss: 0.1944 - val_accuracy: 0.9360\n",
            "Epoch 43/100\n",
            " - 17s - loss: 0.0843 - accuracy: 0.9687 - val_loss: 0.1942 - val_accuracy: 0.9358\n",
            "Epoch 44/100\n",
            " - 17s - loss: 0.0836 - accuracy: 0.9683 - val_loss: 0.1949 - val_accuracy: 0.9362\n",
            "Epoch 45/100\n",
            " - 17s - loss: 0.0852 - accuracy: 0.9683 - val_loss: 0.1950 - val_accuracy: 0.9363\n",
            "Epoch 46/100\n",
            " - 17s - loss: 0.0841 - accuracy: 0.9671 - val_loss: 0.1953 - val_accuracy: 0.9360\n",
            "Epoch 00046: early stopping\n"
          ],
          "name": "stdout"
        },
        {
          "output_type": "execute_result",
          "data": {
            "text/plain": [
              "<keras.callbacks.callbacks.History at 0x7f669ad38400>"
            ]
          },
          "metadata": {
            "tags": []
          },
          "execution_count": 54
        }
      ]
    },
    {
      "cell_type": "code",
      "metadata": {
        "id": "OyphoKVopS3F",
        "colab_type": "code",
        "colab": {}
      },
      "source": [
        "# Using best model to predict on the test set\n",
        "predictions = model3.predict_classes(X_test)"
      ],
      "execution_count": 0,
      "outputs": []
    },
    {
      "cell_type": "code",
      "metadata": {
        "id": "4LNplQ8mp7ks",
        "colab_type": "code",
        "colab": {
          "base_uri": "https://localhost:8080/",
          "height": 34
        },
        "outputId": "8a433daa-4dd8-4f4c-cf82-195d2bf644b5"
      },
      "source": [
        "accuracy_score(y_test, predictions)"
      ],
      "execution_count": 59,
      "outputs": [
        {
          "output_type": "execute_result",
          "data": {
            "text/plain": [
              "0.9396"
            ]
          },
          "metadata": {
            "tags": []
          },
          "execution_count": 59
        }
      ]
    },
    {
      "cell_type": "code",
      "metadata": {
        "id": "k8NsqKELqg6Y",
        "colab_type": "code",
        "colab": {}
      },
      "source": [
        ""
      ],
      "execution_count": 0,
      "outputs": []
    }
  ]
}