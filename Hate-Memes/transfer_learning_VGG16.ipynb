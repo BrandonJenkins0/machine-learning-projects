{
  "nbformat": 4,
  "nbformat_minor": 0,
  "metadata": {
    "language_info": {
      "codemirror_mode": {
        "name": "ipython",
        "version": 2
      },
      "file_extension": ".py",
      "mimetype": "text/x-python",
      "name": "python",
      "nbconvert_exporter": "python",
      "pygments_lexer": "ipython2",
      "version": "2.7.6"
    },
    "kernelspec": {
      "name": "pycharm-e9ab6613",
      "language": "python",
      "display_name": "PyCharm (machine-learning-projects)"
    },
    "pycharm": {
      "stem_cell": {
        "cell_type": "raw",
        "source": [],
        "metadata": {
          "collapsed": false
        }
      }
    },
    "colab": {
      "name": "transfer_learning_VGG16.ipynb",
      "provenance": [],
      "collapsed_sections": []
    },
    "accelerator": "GPU"
  },
  "cells": [
    {
      "cell_type": "code",
      "metadata": {
        "pycharm": {
          "is_executing": false
        },
        "id": "ZTtbm-ac5SKt",
        "colab_type": "code",
        "colab": {}
      },
      "source": [
        "# Importing modules\n",
        "from keras.applications import VGG16\n",
        "from keras import Sequential\n",
        "from keras.layers import Dense\n",
        "from keras.preprocessing.image import ImageDataGenerator, load_img\n",
        "from google.colab import drive\n",
        "import matplotlib.pyplot as plt\n",
        "import numpy as np\n",
        "import pandas as pd"
      ],
      "execution_count": 0,
      "outputs": []
    },
    {
      "cell_type": "code",
      "metadata": {
        "id": "6X_JjegcdAxy",
        "colab_type": "code",
        "outputId": "699b8b31-6c49-40cc-e4ca-940855c5c5fd",
        "colab": {
          "base_uri": "https://localhost:8080/",
          "height": 122
        }
      },
      "source": [
        "drive.mount('/content/drive')"
      ],
      "execution_count": 0,
      "outputs": [
        {
          "output_type": "stream",
          "text": [
            "Go to this URL in a browser: https://accounts.google.com/o/oauth2/auth?client_id=947318989803-6bn6qk8qdgf4n4g3pfee6491hc0brc4i.apps.googleusercontent.com&redirect_uri=urn%3aietf%3awg%3aoauth%3a2.0%3aoob&response_type=code&scope=email%20https%3a%2f%2fwww.googleapis.com%2fauth%2fdocs.test%20https%3a%2f%2fwww.googleapis.com%2fauth%2fdrive%20https%3a%2f%2fwww.googleapis.com%2fauth%2fdrive.photos.readonly%20https%3a%2f%2fwww.googleapis.com%2fauth%2fpeopleapi.readonly\n",
            "\n",
            "Enter your authorization code:\n",
            "··········\n",
            "Mounted at /content/drive\n"
          ],
          "name": "stdout"
        }
      ]
    },
    {
      "cell_type": "markdown",
      "metadata": {
        "collapsed": false,
        "pycharm": {
          "name": "#%% md\n"
        },
        "id": "hEVySs0g5SMI",
        "colab_type": "text"
      },
      "source": [
        "Creating data generators from file directory\n"
      ]
    },
    {
      "cell_type": "code",
      "metadata": {
        "pycharm": {
          "name": "#%%\n",
          "is_executing": false
        },
        "id": "hzIcXJff5SMJ",
        "colab_type": "code",
        "colab": {}
      },
      "source": [
        "# Paths to directories\n",
        "train_path = \"/content/drive/My Drive/ml/train\"\n",
        "val_path = \"/content/drive/My Drive/ml/val\"\n",
        "test_path = \"/content/drive/My Drive/ml/\""
      ],
      "execution_count": 0,
      "outputs": []
    },
    {
      "cell_type": "markdown",
      "metadata": {
        "collapsed": false,
        "pycharm": {
          "name": "#%% md\n",
          "is_executing": false
        },
        "id": "S1HMCqGa5SMM",
        "colab_type": "text"
      },
      "source": [
        "Creating data generators\n",
        "\n"
      ]
    },
    {
      "cell_type": "code",
      "metadata": {
        "pycharm": {
          "name": "#%%\n",
          "is_executing": false
        },
        "id": "kmPDtvYp5SMM",
        "colab_type": "code",
        "outputId": "7ac585a7-3e66-471d-ef52-605656ac24c3",
        "colab": {
          "base_uri": "https://localhost:8080/",
          "height": 68
        }
      },
      "source": [
        "train_batches = ImageDataGenerator().flow_from_directory(train_path, classes=['hate', 'nohate'], batch_size=50, \n",
        "                                                         target_size=(224, 224))\n",
        "val_batches = ImageDataGenerator().flow_from_directory(val_path, classes=['hate', 'nohate'], batch_size=50, \n",
        "                                                       target_size=(224, 224))\n",
        "test_batches = ImageDataGenerator().flow_from_directory(test_path, target_size=(224,224), batch_size=50,\n",
        "                                                        class_mode=None, classes=['test'])"
      ],
      "execution_count": 0,
      "outputs": [
        {
          "output_type": "stream",
          "text": [
            "Found 8500 images belonging to 2 classes.\n",
            "Found 500 images belonging to 2 classes.\n",
            "Found 1000 images belonging to 1 classes.\n"
          ],
          "name": "stdout"
        }
      ]
    },
    {
      "cell_type": "code",
      "metadata": {
        "pycharm": {
          "name": "#%%\n",
          "is_executing": false
        },
        "id": "n1SOEIgU5SMP",
        "colab_type": "code",
        "outputId": "7ecba6b5-b31a-4f32-c254-0cb27d9f1d34",
        "colab": {
          "base_uri": "https://localhost:8080/",
          "height": 71
        }
      },
      "source": [
        "# Loading in the vgg16 model\n",
        "vgg16_mod = VGG16()"
      ],
      "execution_count": 0,
      "outputs": [
        {
          "output_type": "stream",
          "text": [
            "Downloading data from https://github.com/fchollet/deep-learning-models/releases/download/v0.1/vgg16_weights_tf_dim_ordering_tf_kernels.h5\n",
            "553467904/553467096 [==============================] - 16s 0us/step\n"
          ],
          "name": "stdout"
        }
      ]
    },
    {
      "cell_type": "code",
      "metadata": {
        "pycharm": {
          "name": "#%%\n",
          "is_executing": false
        },
        "id": "8RKuugDX5SMR",
        "colab_type": "code",
        "colab": {}
      },
      "source": [
        "model = Sequential()\n",
        "for layer in vgg16_mod.layers:\n",
        "    model.add(layer)"
      ],
      "execution_count": 0,
      "outputs": []
    },
    {
      "cell_type": "code",
      "metadata": {
        "pycharm": {
          "name": "#%%\n",
          "is_executing": false
        },
        "id": "ZCuaRCPE5SM_",
        "colab_type": "code",
        "outputId": "68378b6e-4cd9-4e6e-8f3e-4895d0cd9f96",
        "colab": {
          "base_uri": "https://localhost:8080/",
          "height": 34
        }
      },
      "source": [
        "model.layers.pop()\n"
      ],
      "execution_count": 0,
      "outputs": [
        {
          "output_type": "execute_result",
          "data": {
            "text/plain": [
              "<keras.layers.core.Dense at 0x7fd422555a20>"
            ]
          },
          "metadata": {
            "tags": []
          },
          "execution_count": 6
        }
      ]
    },
    {
      "cell_type": "markdown",
      "metadata": {
        "collapsed": false,
        "pycharm": {
          "name": "#%% md\n",
          "is_executing": false
        },
        "id": "O2LOkR0B5SNB",
        "colab_type": "text"
      },
      "source": [
        "Freezing all the layers\n"
      ]
    },
    {
      "cell_type": "code",
      "metadata": {
        "pycharm": {
          "name": "#%%\n"
        },
        "id": "Usls9c4S5SNC",
        "colab_type": "code",
        "colab": {}
      },
      "source": [
        "for layer in model.layers:\n",
        "    layer.trainable = False"
      ],
      "execution_count": 0,
      "outputs": []
    },
    {
      "cell_type": "markdown",
      "metadata": {
        "collapsed": false,
        "pycharm": {
          "name": "#%% md\n",
          "is_executing": false
        },
        "id": "Q9JzWxXb5SNE",
        "colab_type": "text"
      },
      "source": [
        "Output of two for either hate or nohate speech\n"
      ]
    },
    {
      "cell_type": "code",
      "metadata": {
        "pycharm": {
          "name": "#%%\n"
        },
        "id": "P_WA9g515SNE",
        "colab_type": "code",
        "colab": {}
      },
      "source": [
        "model.add(Dense(2, activation='softmax'))\n"
      ],
      "execution_count": 0,
      "outputs": []
    },
    {
      "cell_type": "markdown",
      "metadata": {
        "collapsed": false,
        "pycharm": {
          "name": "#%% md\n"
        },
        "id": "wVMB7ZdC5SOB",
        "colab_type": "text"
      },
      "source": [
        "Compiling model with loss equal to categorical crossentropy\n"
      ]
    },
    {
      "cell_type": "code",
      "metadata": {
        "pycharm": {
          "name": "#%%\n",
          "is_executing": false
        },
        "id": "gpZMaWwZ5SOB",
        "colab_type": "code",
        "colab": {}
      },
      "source": [
        "model.compile(\"adam\", loss='categorical_crossentropy', metrics=['accuracy'])\n"
      ],
      "execution_count": 0,
      "outputs": []
    },
    {
      "cell_type": "code",
      "metadata": {
        "pycharm": {
          "name": "#%%\n",
          "is_executing": true
        },
        "id": "4IXqacee5SOY",
        "colab_type": "code",
        "outputId": "d6913bff-7987-492c-edbb-dc5a73276da4",
        "colab": {
          "base_uri": "https://localhost:8080/",
          "height": 374
        }
      },
      "source": [
        "model.fit_generator(train_batches, steps_per_epoch=170, validation_data=val_batches, validation_steps=10, epochs=10,\n",
        "                    verbose=2)"
      ],
      "execution_count": 0,
      "outputs": [
        {
          "output_type": "stream",
          "text": [
            "Epoch 1/10\n",
            " - 130s - loss: 0.6415 - accuracy: 0.6412 - val_loss: 0.6075 - val_accuracy: 0.7500\n",
            "Epoch 2/10\n",
            " - 128s - loss: 0.6400 - accuracy: 0.6412 - val_loss: 0.5246 - val_accuracy: 0.7500\n",
            "Epoch 3/10\n",
            " - 128s - loss: 0.6386 - accuracy: 0.6412 - val_loss: 0.5734 - val_accuracy: 0.7500\n",
            "Epoch 4/10\n",
            " - 128s - loss: 0.6374 - accuracy: 0.6411 - val_loss: 0.6276 - val_accuracy: 0.7500\n",
            "Epoch 5/10\n",
            " - 128s - loss: 0.6363 - accuracy: 0.6412 - val_loss: 0.6045 - val_accuracy: 0.7500\n",
            "Epoch 6/10\n",
            " - 127s - loss: 0.6353 - accuracy: 0.6412 - val_loss: 0.6184 - val_accuracy: 0.7520\n",
            "Epoch 7/10\n",
            " - 127s - loss: 0.6344 - accuracy: 0.6412 - val_loss: 0.5514 - val_accuracy: 0.7520\n",
            "Epoch 8/10\n",
            " - 127s - loss: 0.6335 - accuracy: 0.6411 - val_loss: 0.5651 - val_accuracy: 0.7520\n",
            "Epoch 9/10\n",
            " - 127s - loss: 0.6327 - accuracy: 0.6407 - val_loss: 0.5689 - val_accuracy: 0.7500\n",
            "Epoch 10/10\n",
            " - 127s - loss: 0.6319 - accuracy: 0.6412 - val_loss: 0.5511 - val_accuracy: 0.7500\n"
          ],
          "name": "stdout"
        },
        {
          "output_type": "execute_result",
          "data": {
            "text/plain": [
              "<keras.callbacks.callbacks.History at 0x7fd3b62f4908>"
            ]
          },
          "metadata": {
            "tags": []
          },
          "execution_count": 16
        }
      ]
    },
    {
      "cell_type": "code",
      "metadata": {
        "id": "ndvYRgXIBNNp",
        "colab_type": "code",
        "colab": {}
      },
      "source": [
        "predictions = model.predict_generator(test_batches, steps=20)"
      ],
      "execution_count": 0,
      "outputs": []
    },
    {
      "cell_type": "code",
      "metadata": {
        "id": "xJyl7MjtDkmZ",
        "colab_type": "code",
        "outputId": "053ce42a-0202-4aa2-d261-beca4273a987",
        "colab": {
          "base_uri": "https://localhost:8080/",
          "height": 136
        }
      },
      "source": [
        "predictions"
      ],
      "execution_count": 0,
      "outputs": [
        {
          "output_type": "execute_result",
          "data": {
            "text/plain": [
              "array([[0.34703425, 0.6529658 ],\n",
              "       [0.27513424, 0.7248658 ],\n",
              "       [0.29582274, 0.70417726],\n",
              "       ...,\n",
              "       [0.2840645 , 0.7159355 ],\n",
              "       [0.4096922 , 0.59030783],\n",
              "       [0.34754282, 0.6524572 ]], dtype=float32)"
            ]
          },
          "metadata": {
            "tags": []
          },
          "execution_count": 22
        }
      ]
    },
    {
      "cell_type": "code",
      "metadata": {
        "id": "OJarS6hjDlru",
        "colab_type": "code",
        "colab": {}
      },
      "source": [
        "prob_hate = predictions[:, 0]\n",
        "class_hate = np.where(prob_hate > .5, 1, 0)"
      ],
      "execution_count": 0,
      "outputs": []
    },
    {
      "cell_type": "code",
      "metadata": {
        "id": "SMY9DOPrGr-b",
        "colab_type": "code",
        "colab": {}
      },
      "source": [
        "ids = pd.read_csv(\"/content/drive/My Drive/ml/submission_format.csv\")"
      ],
      "execution_count": 0,
      "outputs": []
    },
    {
      "cell_type": "code",
      "metadata": {
        "id": "5fazlHPxHTsz",
        "colab_type": "code",
        "colab": {}
      },
      "source": [
        "ids_ = ids['id']"
      ],
      "execution_count": 0,
      "outputs": []
    },
    {
      "cell_type": "code",
      "metadata": {
        "id": "-U1aJvk6HT1R",
        "colab_type": "code",
        "colab": {}
      },
      "source": [
        "ids_initial = ids_"
      ],
      "execution_count": 0,
      "outputs": []
    },
    {
      "cell_type": "code",
      "metadata": {
        "id": "VzqbD39JD3Wc",
        "colab_type": "code",
        "colab": {}
      },
      "source": [
        "initial_df = pd.DataFrame({\"id\": ids_initial, \"proba\": prob_hate, \"label\": class_hate}).set_index('id')"
      ],
      "execution_count": 0,
      "outputs": []
    },
    {
      "cell_type": "code",
      "metadata": {
        "id": "plHHAWb3H0lJ",
        "colab_type": "code",
        "colab": {}
      },
      "source": [
        "final_csv = initial_df.reindex(ids_).reset_index()"
      ],
      "execution_count": 0,
      "outputs": []
    },
    {
      "cell_type": "code",
      "metadata": {
        "id": "Xg535vbaIYb-",
        "colab_type": "code",
        "outputId": "82b7ce12-eb1e-4da7-8db8-02085fc920e8",
        "colab": {
          "base_uri": "https://localhost:8080/",
          "height": 204
        }
      },
      "source": [
        "final_csv.head()"
      ],
      "execution_count": 0,
      "outputs": [
        {
          "output_type": "execute_result",
          "data": {
            "text/html": [
              "<div>\n",
              "<style scoped>\n",
              "    .dataframe tbody tr th:only-of-type {\n",
              "        vertical-align: middle;\n",
              "    }\n",
              "\n",
              "    .dataframe tbody tr th {\n",
              "        vertical-align: top;\n",
              "    }\n",
              "\n",
              "    .dataframe thead th {\n",
              "        text-align: right;\n",
              "    }\n",
              "</style>\n",
              "<table border=\"1\" class=\"dataframe\">\n",
              "  <thead>\n",
              "    <tr style=\"text-align: right;\">\n",
              "      <th></th>\n",
              "      <th>id</th>\n",
              "      <th>proba</th>\n",
              "      <th>label</th>\n",
              "    </tr>\n",
              "  </thead>\n",
              "  <tbody>\n",
              "    <tr>\n",
              "      <th>0</th>\n",
              "      <td>16395</td>\n",
              "      <td>0.347034</td>\n",
              "      <td>0</td>\n",
              "    </tr>\n",
              "    <tr>\n",
              "      <th>1</th>\n",
              "      <td>37405</td>\n",
              "      <td>0.275134</td>\n",
              "      <td>0</td>\n",
              "    </tr>\n",
              "    <tr>\n",
              "      <th>2</th>\n",
              "      <td>94180</td>\n",
              "      <td>0.295823</td>\n",
              "      <td>0</td>\n",
              "    </tr>\n",
              "    <tr>\n",
              "      <th>3</th>\n",
              "      <td>54321</td>\n",
              "      <td>0.411970</td>\n",
              "      <td>0</td>\n",
              "    </tr>\n",
              "    <tr>\n",
              "      <th>4</th>\n",
              "      <td>97015</td>\n",
              "      <td>0.333861</td>\n",
              "      <td>0</td>\n",
              "    </tr>\n",
              "  </tbody>\n",
              "</table>\n",
              "</div>"
            ],
            "text/plain": [
              "      id     proba  label\n",
              "0  16395  0.347034      0\n",
              "1  37405  0.275134      0\n",
              "2  94180  0.295823      0\n",
              "3  54321  0.411970      0\n",
              "4  97015  0.333861      0"
            ]
          },
          "metadata": {
            "tags": []
          },
          "execution_count": 45
        }
      ]
    },
    {
      "cell_type": "code",
      "metadata": {
        "id": "TL56-GJYIqgh",
        "colab_type": "code",
        "colab": {}
      },
      "source": [
        "final_csv.to_csv(\"/content/drive/My Drive/ml/vgg_pred_partial.csv\", index=False)"
      ],
      "execution_count": 0,
      "outputs": []
    },
    {
      "cell_type": "code",
      "metadata": {
        "id": "Ag1-ri6PI2PD",
        "colab_type": "code",
        "colab": {}
      },
      "source": [
        "model.save('/content/drive/My Drive/ml/vgg_second.h5')"
      ],
      "execution_count": 0,
      "outputs": []
    }
  ]
}